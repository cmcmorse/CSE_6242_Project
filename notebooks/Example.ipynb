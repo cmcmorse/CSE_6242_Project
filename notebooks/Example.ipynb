{
 "cells": [
  {
   "cell_type": "code",
   "execution_count": 1,
   "id": "989f3168",
   "metadata": {},
   "outputs": [
    {
     "name": "stdout",
     "output_type": "stream",
     "text": [
      "/Users/valerieschnapp/Desktop/GT/CSE_6242/project/CSE_6242_Project\n"
     ]
    }
   ],
   "source": [
    "cd .."
   ]
  },
  {
   "cell_type": "code",
   "execution_count": 2,
   "id": "effe7386",
   "metadata": {},
   "outputs": [],
   "source": [
    "from config import connect\n",
    "import pandas as pd"
   ]
  },
  {
   "cell_type": "code",
   "execution_count": 3,
   "id": "24f81bdb",
   "metadata": {},
   "outputs": [],
   "source": [
    "conn = connect()"
   ]
  },
  {
   "cell_type": "code",
   "execution_count": 4,
   "id": "8c435a26",
   "metadata": {},
   "outputs": [],
   "source": [
    "cursor = conn.cursor()"
   ]
  },
  {
   "cell_type": "code",
   "execution_count": 5,
   "id": "fdde4f7a",
   "metadata": {},
   "outputs": [],
   "source": [
    "q = \"SELECT * FROM AQI.index WHERE state_name='Virginia'\"\n",
    "cursor.execute(q)"
   ]
  },
  {
   "cell_type": "code",
   "execution_count": 6,
   "id": "88c70c17",
   "metadata": {},
   "outputs": [
    {
     "name": "stdout",
     "output_type": "stream",
     "text": [
      "['state_name', 'date', 'aqi', 'category', 'defining_parameter', 'latitude', 'longitude', 'county_name']\n"
     ]
    }
   ],
   "source": [
    "num_fields = len(cursor.description)\n",
    "field_names = [i[0] for i in cursor.description]\n",
    "print(field_names)"
   ]
  },
  {
   "cell_type": "code",
   "execution_count": 7,
   "id": "3dd55e0d",
   "metadata": {},
   "outputs": [],
   "source": [
    "table_rows = cursor.fetchall()"
   ]
  },
  {
   "cell_type": "code",
   "execution_count": 8,
   "id": "7605c3c1",
   "metadata": {},
   "outputs": [],
   "source": [
    "virginia_df = pd.DataFrame(table_rows, columns=field_names)"
   ]
  },
  {
   "cell_type": "code",
   "execution_count": 9,
   "id": "8450bc85",
   "metadata": {},
   "outputs": [
    {
     "data": {
      "text/html": [
       "<div>\n",
       "<style scoped>\n",
       "    .dataframe tbody tr th:only-of-type {\n",
       "        vertical-align: middle;\n",
       "    }\n",
       "\n",
       "    .dataframe tbody tr th {\n",
       "        vertical-align: top;\n",
       "    }\n",
       "\n",
       "    .dataframe thead th {\n",
       "        text-align: right;\n",
       "    }\n",
       "</style>\n",
       "<table border=\"1\" class=\"dataframe\">\n",
       "  <thead>\n",
       "    <tr style=\"text-align: right;\">\n",
       "      <th></th>\n",
       "      <th>state_name</th>\n",
       "      <th>date</th>\n",
       "      <th>aqi</th>\n",
       "      <th>category</th>\n",
       "      <th>defining_parameter</th>\n",
       "      <th>latitude</th>\n",
       "      <th>longitude</th>\n",
       "      <th>county_name</th>\n",
       "    </tr>\n",
       "  </thead>\n",
       "  <tbody>\n",
       "    <tr>\n",
       "      <th>0</th>\n",
       "      <td>Virginia</td>\n",
       "      <td>2021-01-10</td>\n",
       "      <td>6</td>\n",
       "      <td>Good</td>\n",
       "      <td>PM10</td>\n",
       "      <td>36.70067</td>\n",
       "      <td>-80.87978</td>\n",
       "      <td>Carroll\\r</td>\n",
       "    </tr>\n",
       "    <tr>\n",
       "      <th>1</th>\n",
       "      <td>Virginia</td>\n",
       "      <td>2021-01-10</td>\n",
       "      <td>2</td>\n",
       "      <td>Good</td>\n",
       "      <td>PM10</td>\n",
       "      <td>38.76835</td>\n",
       "      <td>-77.18347</td>\n",
       "      <td>Fairfax\\r</td>\n",
       "    </tr>\n",
       "    <tr>\n",
       "      <th>2</th>\n",
       "      <td>Virginia</td>\n",
       "      <td>2021-01-01</td>\n",
       "      <td>25</td>\n",
       "      <td>Good</td>\n",
       "      <td>Ozone</td>\n",
       "      <td>37.32320</td>\n",
       "      <td>-80.45720</td>\n",
       "      <td>Giles\\r</td>\n",
       "    </tr>\n",
       "    <tr>\n",
       "      <th>3</th>\n",
       "      <td>Virginia</td>\n",
       "      <td>2021-01-02</td>\n",
       "      <td>28</td>\n",
       "      <td>Good</td>\n",
       "      <td>Ozone</td>\n",
       "      <td>37.32320</td>\n",
       "      <td>-80.45720</td>\n",
       "      <td>Giles\\r</td>\n",
       "    </tr>\n",
       "    <tr>\n",
       "      <th>4</th>\n",
       "      <td>Virginia</td>\n",
       "      <td>2021-01-03</td>\n",
       "      <td>21</td>\n",
       "      <td>Good</td>\n",
       "      <td>Ozone</td>\n",
       "      <td>37.32320</td>\n",
       "      <td>-80.45720</td>\n",
       "      <td>Giles\\r</td>\n",
       "    </tr>\n",
       "    <tr>\n",
       "      <th>...</th>\n",
       "      <td>...</td>\n",
       "      <td>...</td>\n",
       "      <td>...</td>\n",
       "      <td>...</td>\n",
       "      <td>...</td>\n",
       "      <td>...</td>\n",
       "      <td>...</td>\n",
       "      <td>...</td>\n",
       "    </tr>\n",
       "    <tr>\n",
       "      <th>286545</th>\n",
       "      <td>Virginia</td>\n",
       "      <td>2020-10-27</td>\n",
       "      <td>28</td>\n",
       "      <td>Good</td>\n",
       "      <td>Ozone</td>\n",
       "      <td>36.89117</td>\n",
       "      <td>-81.25423</td>\n",
       "      <td>Wythe\\r</td>\n",
       "    </tr>\n",
       "    <tr>\n",
       "      <th>286546</th>\n",
       "      <td>Virginia</td>\n",
       "      <td>2020-10-28</td>\n",
       "      <td>15</td>\n",
       "      <td>Good</td>\n",
       "      <td>Ozone</td>\n",
       "      <td>36.89117</td>\n",
       "      <td>-81.25423</td>\n",
       "      <td>Wythe\\r</td>\n",
       "    </tr>\n",
       "    <tr>\n",
       "      <th>286547</th>\n",
       "      <td>Virginia</td>\n",
       "      <td>2020-10-29</td>\n",
       "      <td>19</td>\n",
       "      <td>Good</td>\n",
       "      <td>Ozone</td>\n",
       "      <td>36.89117</td>\n",
       "      <td>-81.25423</td>\n",
       "      <td>Wythe\\r</td>\n",
       "    </tr>\n",
       "    <tr>\n",
       "      <th>286548</th>\n",
       "      <td>Virginia</td>\n",
       "      <td>2020-10-30</td>\n",
       "      <td>24</td>\n",
       "      <td>Good</td>\n",
       "      <td>Ozone</td>\n",
       "      <td>36.89117</td>\n",
       "      <td>-81.25423</td>\n",
       "      <td>Wythe\\r</td>\n",
       "    </tr>\n",
       "    <tr>\n",
       "      <th>286549</th>\n",
       "      <td>Virginia</td>\n",
       "      <td>2020-10-31</td>\n",
       "      <td>25</td>\n",
       "      <td>Good</td>\n",
       "      <td>Ozone</td>\n",
       "      <td>36.89117</td>\n",
       "      <td>-81.25423</td>\n",
       "      <td>Wythe\\r</td>\n",
       "    </tr>\n",
       "  </tbody>\n",
       "</table>\n",
       "<p>286550 rows × 8 columns</p>\n",
       "</div>"
      ],
      "text/plain": [
       "       state_name        date  aqi category defining_parameter  latitude  \\\n",
       "0        Virginia  2021-01-10    6     Good               PM10  36.70067   \n",
       "1        Virginia  2021-01-10    2     Good               PM10  38.76835   \n",
       "2        Virginia  2021-01-01   25     Good              Ozone  37.32320   \n",
       "3        Virginia  2021-01-02   28     Good              Ozone  37.32320   \n",
       "4        Virginia  2021-01-03   21     Good              Ozone  37.32320   \n",
       "...           ...         ...  ...      ...                ...       ...   \n",
       "286545   Virginia  2020-10-27   28     Good              Ozone  36.89117   \n",
       "286546   Virginia  2020-10-28   15     Good              Ozone  36.89117   \n",
       "286547   Virginia  2020-10-29   19     Good              Ozone  36.89117   \n",
       "286548   Virginia  2020-10-30   24     Good              Ozone  36.89117   \n",
       "286549   Virginia  2020-10-31   25     Good              Ozone  36.89117   \n",
       "\n",
       "        longitude county_name  \n",
       "0       -80.87978   Carroll\\r  \n",
       "1       -77.18347   Fairfax\\r  \n",
       "2       -80.45720     Giles\\r  \n",
       "3       -80.45720     Giles\\r  \n",
       "4       -80.45720     Giles\\r  \n",
       "...           ...         ...  \n",
       "286545  -81.25423     Wythe\\r  \n",
       "286546  -81.25423     Wythe\\r  \n",
       "286547  -81.25423     Wythe\\r  \n",
       "286548  -81.25423     Wythe\\r  \n",
       "286549  -81.25423     Wythe\\r  \n",
       "\n",
       "[286550 rows x 8 columns]"
      ]
     },
     "execution_count": 9,
     "metadata": {},
     "output_type": "execute_result"
    }
   ],
   "source": [
    "virginia_df"
   ]
  },
  {
   "cell_type": "code",
   "execution_count": null,
   "id": "3cb369f9",
   "metadata": {},
   "outputs": [],
   "source": []
  }
 ],
 "metadata": {
  "kernelspec": {
   "display_name": "Python 3",
   "language": "python",
   "name": "python3"
  },
  "language_info": {
   "codemirror_mode": {
    "name": "ipython",
    "version": 3
   },
   "file_extension": ".py",
   "mimetype": "text/x-python",
   "name": "python",
   "nbconvert_exporter": "python",
   "pygments_lexer": "ipython3",
   "version": "3.8.3"
  }
 },
 "nbformat": 4,
 "nbformat_minor": 5
}
